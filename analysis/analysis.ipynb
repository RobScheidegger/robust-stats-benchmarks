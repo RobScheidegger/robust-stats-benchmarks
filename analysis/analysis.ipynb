{
 "cells": [
  {
   "cell_type": "code",
   "execution_count": null,
   "metadata": {},
   "outputs": [],
   "source": [
    "import numpy as np\n",
    "import matplotlib.pyplot as plt"
   ]
  },
  {
   "cell_type": "code",
   "execution_count": 36,
   "metadata": {},
   "outputs": [
    {
     "ename": "ValueError",
     "evalue": "matmul: Input operand 1 has a mismatch in its core dimension 0, with gufunc signature (n?,k),(k,m?)->(n?,m?) (size 1 is different from 2)",
     "output_type": "error",
     "traceback": [
      "\u001b[0;31m---------------------------------------------------------------------------\u001b[0m",
      "\u001b[0;31mValueError\u001b[0m                                Traceback (most recent call last)",
      "\u001b[1;32m/home/rob/workplace/csci2952q/robust-stats-benchmarks/analysis/analysis.ipynb Cell 2\u001b[0m line \u001b[0;36m7\n\u001b[1;32m      <a href='vscode-notebook-cell:/home/rob/workplace/csci2952q/robust-stats-benchmarks/analysis/analysis.ipynb#X12sZmlsZQ%3D%3D?line=3'>4</a>\u001b[0m random_direction \u001b[39m=\u001b[39m np\u001b[39m.\u001b[39mrandom\u001b[39m.\u001b[39mmultivariate_normal(mean\u001b[39m=\u001b[39m[\u001b[39m0\u001b[39m, \u001b[39m0\u001b[39m], cov\u001b[39m=\u001b[39m[[\u001b[39m1\u001b[39m, \u001b[39m0\u001b[39m], [\u001b[39m0\u001b[39m, \u001b[39m1\u001b[39m]], size\u001b[39m=\u001b[39m\u001b[39m1\u001b[39m)\n\u001b[1;32m      <a href='vscode-notebook-cell:/home/rob/workplace/csci2952q/robust-stats-benchmarks/analysis/analysis.ipynb#X12sZmlsZQ%3D%3D?line=4'>5</a>\u001b[0m random_direction \u001b[39m=\u001b[39m random_direction \u001b[39m/\u001b[39m np\u001b[39m.\u001b[39mlinalg\u001b[39m.\u001b[39mnorm(random_direction)\n\u001b[0;32m----> <a href='vscode-notebook-cell:/home/rob/workplace/csci2952q/robust-stats-benchmarks/analysis/analysis.ipynb#X12sZmlsZQ%3D%3D?line=6'>7</a>\u001b[0m projections \u001b[39m=\u001b[39m X \u001b[39m@\u001b[39;49m random_direction\n\u001b[1;32m      <a href='vscode-notebook-cell:/home/rob/workplace/csci2952q/robust-stats-benchmarks/analysis/analysis.ipynb#X12sZmlsZQ%3D%3D?line=7'>8</a>\u001b[0m percentile \u001b[39m=\u001b[39m np\u001b[39m.\u001b[39mpercentile(projections, EPSILON \u001b[39m*\u001b[39m \u001b[39m100\u001b[39m)\n\u001b[1;32m     <a href='vscode-notebook-cell:/home/rob/workplace/csci2952q/robust-stats-benchmarks/analysis/analysis.ipynb#X12sZmlsZQ%3D%3D?line=9'>10</a>\u001b[0m selected_points \u001b[39m=\u001b[39m X[projections \u001b[39m<\u001b[39m percentile]\n",
      "\u001b[0;31mValueError\u001b[0m: matmul: Input operand 1 has a mismatch in its core dimension 0, with gufunc signature (n?,k),(k,m?)->(n?,m?) (size 1 is different from 2)"
     ]
    }
   ],
   "source": [
    "EPSILON = 0.02\n",
    "\n",
    "X = np.random.multivariate_normal(mean=[0, 0], cov=[[1, 0], [0, 1]], size=1000)\n",
    "random_direction = np.random.multivariate_normal(mean=[0, 0], cov=[[1, 0], [0, 1]], size=1)\n",
    "random_direction = random_direction / np.linalg.norm(random_direction)\n",
    "\n",
    "projections = X @ random_direction\n",
    "percentile = np.percentile(projections, EPSILON * 100)\n",
    "\n",
    "selected_points = X[projections < percentile]\n",
    "\n",
    "plt.scatter(X[:, 0], X[:, 1], s=5)\n",
    "plt.scatter(selected_points[:, 0], selected_points[:, 1], s=5, color='r')\n",
    "# draw an arrow in the direction of random direction\n",
    "plt.arrow(0, 0, random_direction[0, 0], random_direction[0, 1], width=0.01, color='r')\n",
    "plt.xlim(-3, 3)\n",
    "plt.ylim(-3, 3)\n",
    "plt.show()"
   ]
  }
 ],
 "metadata": {
  "kernelspec": {
   "display_name": "base",
   "language": "python",
   "name": "python3"
  },
  "language_info": {
   "codemirror_mode": {
    "name": "ipython",
    "version": 3
   },
   "file_extension": ".py",
   "mimetype": "text/x-python",
   "name": "python",
   "nbconvert_exporter": "python",
   "pygments_lexer": "ipython3",
   "version": "3.11.4"
  }
 },
 "nbformat": 4,
 "nbformat_minor": 2
}
